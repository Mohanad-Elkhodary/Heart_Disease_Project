{
 "cells": [
  {
   "cell_type": "code",
   "execution_count": 2,
   "id": "dd883b80-0e25-4fb7-8858-8c43321ac628",
   "metadata": {},
   "outputs": [
    {
     "name": "stdout",
     "output_type": "stream",
     "text": [
      "thalch                      0.154784\n",
      "chol                        0.132067\n",
      "age                         0.129143\n",
      "oldpeak                     0.120599\n",
      "cp_atypical angina          0.095059\n",
      "trestbps                    0.092523\n",
      "exang                       0.081038\n",
      "cp_non-anginal              0.046338\n",
      "sex_Male                    0.046044\n",
      "slope_upsloping             0.019217\n",
      "fbs                         0.018856\n",
      "restecg_normal              0.018530\n",
      "restecg_st-t abnormality    0.016467\n",
      "slope_flat                  0.014789\n",
      "cp_typical angina           0.014545\n",
      "dtype: float64\n"
     ]
    }
   ],
   "source": [
    "import numpy as np\n",
    "import pandas as pd\n",
    "import matplotlib.pyplot as plt\n",
    "from sklearn.ensemble import RandomForestClassifier\n",
    "from sklearn.feature_selection import RFE\n",
    "from sklearn.linear_model import LogisticRegression\n",
    "from sklearn.feature_selection import chi2\n",
    "# load the xs and y and data\n",
    "data = pd.read_csv(\"cleaned_heart_data.csv\")\n",
    "X=data.drop(columns=['num'])\n",
    "X_mm = np.load(\"X_mm.npy\")\n",
    "X_scaled = np.load(\"X_scaled.npy\")\n",
    "Y = np.load(\"y.npy\")\n",
    "#feature importance (random forest)\n",
    "RF=RandomForestClassifier(random_state=42)\n",
    "RF.fit(X,Y)\n",
    "importances=pd.Series(RF.feature_importances_,index=X.columns).sort_values(ascending=False)\n",
    "print(importances)"
   ]
  },
  {
   "cell_type": "code",
   "execution_count": 3,
   "id": "0fa30f08-5c24-4719-bc30-6588e63bb94e",
   "metadata": {},
   "outputs": [
    {
     "name": "stdout",
     "output_type": "stream",
     "text": [
      "Index(['exang', 'sex_Male', 'cp_atypical angina', 'cp_non-anginal',\n",
      "       'cp_typical angina'],\n",
      "      dtype='object')\n"
     ]
    }
   ],
   "source": [
    "#RFE\n",
    "model=LogisticRegression(max_iter=2000)\n",
    "rfe=RFE(model,n_features_to_select=5)\n",
    "rfe.fit(X,Y)\n",
    "selected_feature=X.columns[rfe.support_]\n",
    "print(selected_feature)"
   ]
  },
  {
   "cell_type": "code",
   "execution_count": 4,
   "id": "dbcb9c82-cd9c-44b0-ae44-5db7e61674f1",
   "metadata": {},
   "outputs": [
    {
     "name": "stdout",
     "output_type": "stream",
     "text": [
      "age: chi2=5.22,p-value=0.0223\n",
      "trestbps: chi2=0.59,p-value=0.4444\n",
      "chol: chi2=0.21,p-value=0.6439\n",
      "fbs: chi2=9.13,p-value=0.0025\n",
      "thalch: chi2=7.68,p-value=0.0056\n",
      "exang: chi2=109.61,p-value=0.0000\n",
      "oldpeak: chi2=26.97,p-value=0.0000\n",
      "sex_Male: chi2=18.32,p-value=0.0000\n",
      "cp_atypical angina: chi2=121.44,p-value=0.0000\n",
      "cp_non-anginal: chi2=31.52,p-value=0.0000\n",
      "cp_typical angina: chi2=2.61,p-value=0.1060\n",
      "restecg_normal: chi2=3.21,p-value=0.0731\n",
      "restecg_st-t abnormality: chi2=8.13,p-value=0.0044\n",
      "slope_flat: chi2=2.52,p-value=0.1127\n",
      "slope_upsloping: chi2=23.46,p-value=0.0000\n"
     ]
    }
   ],
   "source": [
    "#chi2\n",
    "chi_scores,p_values=chi2(X_mm,Y)\n",
    "for feature ,score ,p in zip(X.columns,chi_scores,p_values):\n",
    "    print(f'{feature}: chi2={score:.2f},p-value={p:.4f}')"
   ]
  },
  {
   "cell_type": "code",
   "execution_count": 7,
   "id": "cfaa156c-567c-4e38-828a-e9715a2d59ce",
   "metadata": {},
   "outputs": [
    {
     "name": "stdout",
     "output_type": "stream",
     "text": [
      "final feature are: ['thalch', 'age', 'oldpeak', 'chol', 'sex_Male', 'cp_non-anginal', 'fbs', 'cp_typical angina', 'restecg_st-t abnormality', 'exang', 'slope_upsloping', 'cp_atypical angina']\n"
     ]
    }
   ],
   "source": [
    "# selecting the final features\n",
    "# selection\n",
    "top_rf=importances.sort_values(ascending=False).head(5).index.tolist()\n",
    "RFE_selection=selected_feature.tolist()\n",
    "chi2_selection=[feature for feature, p in zip(X.columns, p_values) if p < 0.05]\n",
    "\n",
    "#final feature\n",
    "final_feature=list(set(top_rf + RFE_selection + chi2_selection))\n",
    "print(f'final feature are: {final_feature}')\n",
    "\n",
    "X_selected=X[final_feature] # for modelling\n",
    "#saving\n",
    "np.save(\"X_selected.npy\", X_selected)\n",
    "np.save(\"final_feature.npy\", final_feature)\n"
   ]
  },
  {
   "cell_type": "code",
   "execution_count": null,
   "id": "b1270198-8ab7-48cd-9153-7c90ad2a74d1",
   "metadata": {},
   "outputs": [],
   "source": []
  }
 ],
 "metadata": {
  "kernelspec": {
   "display_name": "Python 3 (ipykernel)",
   "language": "python",
   "name": "python3"
  },
  "language_info": {
   "codemirror_mode": {
    "name": "ipython",
    "version": 3
   },
   "file_extension": ".py",
   "mimetype": "text/x-python",
   "name": "python",
   "nbconvert_exporter": "python",
   "pygments_lexer": "ipython3",
   "version": "3.12.4"
  }
 },
 "nbformat": 4,
 "nbformat_minor": 5
}
